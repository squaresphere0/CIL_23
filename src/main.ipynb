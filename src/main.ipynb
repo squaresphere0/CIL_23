{
 "cells": [
  {
   "cell_type": "code",
   "execution_count": null,
   "id": "d5bdb7b7",
   "metadata": {},
   "outputs": [
    {
     "data": {
      "application/vnd.jupyter.widget-view+json": {
       "model_id": "ed6ff4232c6f4df69e0925d926149efb",
       "version_major": 2,
       "version_minor": 0
      },
      "text/plain": [
       "Epoch 1/20:   0%|          | 0/650 [00:00<?, ?it/s]"
      ]
     },
     "metadata": {},
     "output_type": "display_data"
    },
    {
     "name": "stdout",
     "output_type": "stream",
     "text": [
      "\t- loss = 0.4861409046558233\n",
      "  \t- val_loss = 0.44165839199666623\n",
      "  \t- acc = 0.785649265234287\n",
      "  \t- val_acc = 0.7896173563268449\n",
      " \n"
     ]
    },
    {
     "data": {
      "image/png": "[encoded data removed]",
      "text/plain": [
       "<Figure size 1850x600 with 5 Axes>"
      ]
     },
     "metadata": {},
     "output_type": "display_data"
    },
    {
     "data": {
      "application/vnd.jupyter.widget-view+json": {
       "model_id": "736bff565a514352a087a47b5364af70",
       "version_major": 2,
       "version_minor": 0
      },
      "text/plain": [
       "Epoch 2/20:   0%|          | 0/650 [00:00<?, ?it/s]"
      ]
     },
     "metadata": {},
     "output_type": "display_data"
    }
   ],
   "source": [
    "import torch\n",
    "from torch import nn\n",
    "import patch_cnn\n",
    "import image_dataset\n",
    "import training_loop\n",
    "from pathlib import Path\n",
    "\n",
    "BASE_PATH = Path('..')\n",
    "\n",
    "\n",
    "device = 'cuda' if torch.cuda.is_available() else 'cpu'  # automatically select device\n",
    "train_dataset = image_dataset.ImageDataset(BASE_PATH / 'data' / 'training',\n",
    "                                           device)\n",
    "val_dataset = image_dataset.ImageDataset(BASE_PATH / 'data' / 'validation', device)\n",
    "train_dataloader = torch.utils.data.DataLoader(train_dataset, batch_size=128, shuffle=True)\n",
    "val_dataloader = torch.utils.data.DataLoader(val_dataset, batch_size=128, shuffle=True)\n",
    "model = patch_cnn.PatchCNN().to(device)\n",
    "loss_fn = nn.BCELoss()\n",
    "metric_fns = {'acc': patch_cnn.accuracy_fn}\n",
    "optimizer = torch.optim.Adam(model.parameters())\n",
    "n_epochs = 20\n",
    "training_loop.train(train_dataloader, val_dataloader, model, loss_fn, metric_fns, optimizer, n_epochs)"
   ]
  },
  {
   "cell_type": "code",
   "execution_count": null,
   "id": "b8c74794",
   "metadata": {},
   "outputs": [],
   "source": [
    "# predict on test set\n",
    "test_path = BASE_PATH / 'data' / 'test' / 'images'\n",
    "test_filenames = sorted(test_path.glob('*.png'))\n",
    "test_images = load_all_from_path(test_path)\n",
    "test_images = test_images[:, :, :, :3]\n",
    "test_patches = np.moveaxis(image_to_patches(test_images), -1, 1)  # HWC to CHW\n",
    "test_patches = np.reshape(test_patches, (25, -1, 3, PATCH_SIZE, PATCH_SIZE))  # split in batches for memory constraints\n",
    "test_pred = [model(np_to_tensor(batch, device)).detach().cpu().numpy() for batch in test_patches]\n",
    "test_pred = np.concatenate(test_pred, 0)\n",
    "test_pred = np.round(test_pred.reshape(test_images.shape[0], test_images.shape[1] // PATCH_SIZE, test_images.shape[1] // PATCH_SIZE))"
   ]
  },
  {
   "cell_type": "code",
   "execution_count": null,
   "id": "52ea01b2",
   "metadata": {},
   "outputs": [],
   "source": []
  }
 ],
 "metadata": {
  "kernelspec": {
   "display_name": "Python 3 (ipykernel)",
   "language": "python",
   "name": "python3"
  },
  "language_info": {
   "codemirror_mode": {
    "name": "ipython",
    "version": 3
   },
   "file_extension": ".py",
   "mimetype": "text/x-python",
   "name": "python",
   "nbconvert_exporter": "python",
   "pygments_lexer": "ipython3",
   "version": "3.11.2"
  }
 },
 "nbformat": 4,
 "nbformat_minor": 5
}
